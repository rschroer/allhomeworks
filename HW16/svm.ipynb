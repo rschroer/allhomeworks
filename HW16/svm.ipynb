{
 "cells": [
  {
   "cell_type": "code",
   "execution_count": 1,
   "metadata": {},
   "outputs": [],
   "source": [
    "import pandas as pd"
   ]
  },
  {
   "cell_type": "markdown",
   "metadata": {},
   "source": [
    "# Read the CSV and Perform Basic Data Cleaning"
   ]
  },
  {
   "cell_type": "code",
   "execution_count": 2,
   "metadata": {},
   "outputs": [
    {
     "data": {
      "text/html": [
       "<div>\n",
       "<style scoped>\n",
       "    .dataframe tbody tr th:only-of-type {\n",
       "        vertical-align: middle;\n",
       "    }\n",
       "\n",
       "    .dataframe tbody tr th {\n",
       "        vertical-align: top;\n",
       "    }\n",
       "\n",
       "    .dataframe thead th {\n",
       "        text-align: right;\n",
       "    }\n",
       "</style>\n",
       "<table border=\"1\" class=\"dataframe\">\n",
       "  <thead>\n",
       "    <tr style=\"text-align: right;\">\n",
       "      <th></th>\n",
       "      <th>koi_disposition</th>\n",
       "      <th>koi_fpflag_nt</th>\n",
       "      <th>koi_fpflag_ss</th>\n",
       "      <th>koi_fpflag_co</th>\n",
       "      <th>koi_fpflag_ec</th>\n",
       "      <th>koi_period</th>\n",
       "      <th>koi_period_err1</th>\n",
       "      <th>koi_period_err2</th>\n",
       "      <th>koi_time0bk</th>\n",
       "      <th>koi_time0bk_err1</th>\n",
       "      <th>...</th>\n",
       "      <th>koi_steff_err2</th>\n",
       "      <th>koi_slogg</th>\n",
       "      <th>koi_slogg_err1</th>\n",
       "      <th>koi_slogg_err2</th>\n",
       "      <th>koi_srad</th>\n",
       "      <th>koi_srad_err1</th>\n",
       "      <th>koi_srad_err2</th>\n",
       "      <th>ra</th>\n",
       "      <th>dec</th>\n",
       "      <th>koi_kepmag</th>\n",
       "    </tr>\n",
       "  </thead>\n",
       "  <tbody>\n",
       "    <tr>\n",
       "      <th>0</th>\n",
       "      <td>CONFIRMED</td>\n",
       "      <td>0</td>\n",
       "      <td>0</td>\n",
       "      <td>0</td>\n",
       "      <td>0</td>\n",
       "      <td>9.488036</td>\n",
       "      <td>2.775000e-05</td>\n",
       "      <td>-2.775000e-05</td>\n",
       "      <td>170.538750</td>\n",
       "      <td>0.002160</td>\n",
       "      <td>...</td>\n",
       "      <td>-81.0</td>\n",
       "      <td>4.467</td>\n",
       "      <td>0.064</td>\n",
       "      <td>-0.096</td>\n",
       "      <td>0.927</td>\n",
       "      <td>0.105</td>\n",
       "      <td>-0.061</td>\n",
       "      <td>291.93423</td>\n",
       "      <td>48.141651</td>\n",
       "      <td>15.347</td>\n",
       "    </tr>\n",
       "    <tr>\n",
       "      <th>1</th>\n",
       "      <td>CONFIRMED</td>\n",
       "      <td>0</td>\n",
       "      <td>0</td>\n",
       "      <td>0</td>\n",
       "      <td>0</td>\n",
       "      <td>54.418383</td>\n",
       "      <td>2.479000e-04</td>\n",
       "      <td>-2.479000e-04</td>\n",
       "      <td>162.513840</td>\n",
       "      <td>0.003520</td>\n",
       "      <td>...</td>\n",
       "      <td>-81.0</td>\n",
       "      <td>4.467</td>\n",
       "      <td>0.064</td>\n",
       "      <td>-0.096</td>\n",
       "      <td>0.927</td>\n",
       "      <td>0.105</td>\n",
       "      <td>-0.061</td>\n",
       "      <td>291.93423</td>\n",
       "      <td>48.141651</td>\n",
       "      <td>15.347</td>\n",
       "    </tr>\n",
       "    <tr>\n",
       "      <th>2</th>\n",
       "      <td>FALSE POSITIVE</td>\n",
       "      <td>0</td>\n",
       "      <td>1</td>\n",
       "      <td>0</td>\n",
       "      <td>0</td>\n",
       "      <td>19.899140</td>\n",
       "      <td>1.494000e-05</td>\n",
       "      <td>-1.494000e-05</td>\n",
       "      <td>175.850252</td>\n",
       "      <td>0.000581</td>\n",
       "      <td>...</td>\n",
       "      <td>-176.0</td>\n",
       "      <td>4.544</td>\n",
       "      <td>0.044</td>\n",
       "      <td>-0.176</td>\n",
       "      <td>0.868</td>\n",
       "      <td>0.233</td>\n",
       "      <td>-0.078</td>\n",
       "      <td>297.00482</td>\n",
       "      <td>48.134129</td>\n",
       "      <td>15.436</td>\n",
       "    </tr>\n",
       "    <tr>\n",
       "      <th>3</th>\n",
       "      <td>FALSE POSITIVE</td>\n",
       "      <td>0</td>\n",
       "      <td>1</td>\n",
       "      <td>0</td>\n",
       "      <td>0</td>\n",
       "      <td>1.736952</td>\n",
       "      <td>2.630000e-07</td>\n",
       "      <td>-2.630000e-07</td>\n",
       "      <td>170.307565</td>\n",
       "      <td>0.000115</td>\n",
       "      <td>...</td>\n",
       "      <td>-174.0</td>\n",
       "      <td>4.564</td>\n",
       "      <td>0.053</td>\n",
       "      <td>-0.168</td>\n",
       "      <td>0.791</td>\n",
       "      <td>0.201</td>\n",
       "      <td>-0.067</td>\n",
       "      <td>285.53461</td>\n",
       "      <td>48.285210</td>\n",
       "      <td>15.597</td>\n",
       "    </tr>\n",
       "    <tr>\n",
       "      <th>4</th>\n",
       "      <td>CONFIRMED</td>\n",
       "      <td>0</td>\n",
       "      <td>0</td>\n",
       "      <td>0</td>\n",
       "      <td>0</td>\n",
       "      <td>2.525592</td>\n",
       "      <td>3.761000e-06</td>\n",
       "      <td>-3.761000e-06</td>\n",
       "      <td>171.595550</td>\n",
       "      <td>0.001130</td>\n",
       "      <td>...</td>\n",
       "      <td>-211.0</td>\n",
       "      <td>4.438</td>\n",
       "      <td>0.070</td>\n",
       "      <td>-0.210</td>\n",
       "      <td>1.046</td>\n",
       "      <td>0.334</td>\n",
       "      <td>-0.133</td>\n",
       "      <td>288.75488</td>\n",
       "      <td>48.226200</td>\n",
       "      <td>15.509</td>\n",
       "    </tr>\n",
       "  </tbody>\n",
       "</table>\n",
       "<p>5 rows × 41 columns</p>\n",
       "</div>"
      ],
      "text/plain": [
       "  koi_disposition  koi_fpflag_nt  koi_fpflag_ss  koi_fpflag_co  koi_fpflag_ec  \\\n",
       "0       CONFIRMED              0              0              0              0   \n",
       "1       CONFIRMED              0              0              0              0   \n",
       "2  FALSE POSITIVE              0              1              0              0   \n",
       "3  FALSE POSITIVE              0              1              0              0   \n",
       "4       CONFIRMED              0              0              0              0   \n",
       "\n",
       "   koi_period  koi_period_err1  koi_period_err2  koi_time0bk  \\\n",
       "0    9.488036     2.775000e-05    -2.775000e-05   170.538750   \n",
       "1   54.418383     2.479000e-04    -2.479000e-04   162.513840   \n",
       "2   19.899140     1.494000e-05    -1.494000e-05   175.850252   \n",
       "3    1.736952     2.630000e-07    -2.630000e-07   170.307565   \n",
       "4    2.525592     3.761000e-06    -3.761000e-06   171.595550   \n",
       "\n",
       "   koi_time0bk_err1     ...      koi_steff_err2  koi_slogg  koi_slogg_err1  \\\n",
       "0          0.002160     ...               -81.0      4.467           0.064   \n",
       "1          0.003520     ...               -81.0      4.467           0.064   \n",
       "2          0.000581     ...              -176.0      4.544           0.044   \n",
       "3          0.000115     ...              -174.0      4.564           0.053   \n",
       "4          0.001130     ...              -211.0      4.438           0.070   \n",
       "\n",
       "   koi_slogg_err2  koi_srad  koi_srad_err1  koi_srad_err2         ra  \\\n",
       "0          -0.096     0.927          0.105         -0.061  291.93423   \n",
       "1          -0.096     0.927          0.105         -0.061  291.93423   \n",
       "2          -0.176     0.868          0.233         -0.078  297.00482   \n",
       "3          -0.168     0.791          0.201         -0.067  285.53461   \n",
       "4          -0.210     1.046          0.334         -0.133  288.75488   \n",
       "\n",
       "         dec  koi_kepmag  \n",
       "0  48.141651      15.347  \n",
       "1  48.141651      15.347  \n",
       "2  48.134129      15.436  \n",
       "3  48.285210      15.597  \n",
       "4  48.226200      15.509  \n",
       "\n",
       "[5 rows x 41 columns]"
      ]
     },
     "execution_count": 2,
     "metadata": {},
     "output_type": "execute_result"
    }
   ],
   "source": [
    "df = pd.read_csv(\"cumulative.csv\")\n",
    "df = df.drop(columns=[\"rowid\", \"kepid\", \"kepoi_name\", \"kepler_name\", \"koi_pdisposition\", \"koi_score\", \"koi_tce_delivname\"])\n",
    "# Drop the null columns where all values are null\n",
    "df = df.dropna(axis='columns', how='all')\n",
    "# Drop the null rows\n",
    "df = df.dropna()\n",
    "df.head()"
   ]
  },
  {
   "cell_type": "code",
   "execution_count": 3,
   "metadata": {},
   "outputs": [
    {
     "data": {
      "text/plain": [
       "array(['CONFIRMED', 'FALSE POSITIVE', 'CANDIDATE'], dtype=object)"
      ]
     },
     "execution_count": 3,
     "metadata": {},
     "output_type": "execute_result"
    }
   ],
   "source": [
    "# See what kind of labels are expected\n",
    "df['koi_disposition'].unique()"
   ]
  },
  {
   "cell_type": "code",
   "execution_count": 4,
   "metadata": {},
   "outputs": [],
   "source": [
    "# Going to drop the candidate values because 'unsure' is not a useful classification\n",
    "df=df.loc[df[\"koi_disposition\"]!=\"CANDIDATE\"]"
   ]
  },
  {
   "cell_type": "code",
   "execution_count": 6,
   "metadata": {},
   "outputs": [
    {
     "name": "stdout",
     "output_type": "stream",
     "text": [
      "<class 'pandas.core.frame.DataFrame'>\n",
      "Int64Index: 6630 entries, 0 to 9563\n",
      "Data columns (total 41 columns):\n",
      "koi_disposition      6630 non-null object\n",
      "koi_fpflag_nt        6630 non-null int64\n",
      "koi_fpflag_ss        6630 non-null int64\n",
      "koi_fpflag_co        6630 non-null int64\n",
      "koi_fpflag_ec        6630 non-null int64\n",
      "koi_period           6630 non-null float64\n",
      "koi_period_err1      6630 non-null float64\n",
      "koi_period_err2      6630 non-null float64\n",
      "koi_time0bk          6630 non-null float64\n",
      "koi_time0bk_err1     6630 non-null float64\n",
      "koi_time0bk_err2     6630 non-null float64\n",
      "koi_impact           6630 non-null float64\n",
      "koi_impact_err1      6630 non-null float64\n",
      "koi_impact_err2      6630 non-null float64\n",
      "koi_duration         6630 non-null float64\n",
      "koi_duration_err1    6630 non-null float64\n",
      "koi_duration_err2    6630 non-null float64\n",
      "koi_depth            6630 non-null float64\n",
      "koi_depth_err1       6630 non-null float64\n",
      "koi_depth_err2       6630 non-null float64\n",
      "koi_prad             6630 non-null float64\n",
      "koi_prad_err1        6630 non-null float64\n",
      "koi_prad_err2        6630 non-null float64\n",
      "koi_teq              6630 non-null float64\n",
      "koi_insol            6630 non-null float64\n",
      "koi_insol_err1       6630 non-null float64\n",
      "koi_insol_err2       6630 non-null float64\n",
      "koi_model_snr        6630 non-null float64\n",
      "koi_tce_plnt_num     6630 non-null float64\n",
      "koi_steff            6630 non-null float64\n",
      "koi_steff_err1       6630 non-null float64\n",
      "koi_steff_err2       6630 non-null float64\n",
      "koi_slogg            6630 non-null float64\n",
      "koi_slogg_err1       6630 non-null float64\n",
      "koi_slogg_err2       6630 non-null float64\n",
      "koi_srad             6630 non-null float64\n",
      "koi_srad_err1        6630 non-null float64\n",
      "koi_srad_err2        6630 non-null float64\n",
      "ra                   6630 non-null float64\n",
      "dec                  6630 non-null float64\n",
      "koi_kepmag           6630 non-null float64\n",
      "dtypes: float64(36), int64(4), object(1)\n",
      "memory usage: 2.1+ MB\n"
     ]
    }
   ],
   "source": [
    "## Print out all the column headers for easy copy paste\n",
    "df.info()"
   ]
  },
  {
   "cell_type": "markdown",
   "metadata": {},
   "source": [
    "# Create a Train Test Split\n",
    "\n",
    "Use `koi_disposition` for the y values"
   ]
  },
  {
   "cell_type": "code",
   "execution_count": 7,
   "metadata": {},
   "outputs": [
    {
     "name": "stdout",
     "output_type": "stream",
     "text": [
      "(6630, 40) (6630,)\n"
     ]
    }
   ],
   "source": [
    "# Looks like we only need to reshape the X\n",
    "X = df[['koi_fpflag_nt', 'koi_fpflag_ss', 'koi_fpflag_co',\n",
    "       'koi_fpflag_ec', 'koi_period', 'koi_period_err1', 'koi_period_err2',\n",
    "       'koi_time0bk', 'koi_time0bk_err1', 'koi_time0bk_err2', 'koi_impact',\n",
    "       'koi_impact_err1', 'koi_impact_err2', 'koi_duration',\n",
    "       'koi_duration_err1', 'koi_duration_err2', 'koi_depth', 'koi_depth_err1',\n",
    "       'koi_depth_err2', 'koi_prad', 'koi_prad_err1', 'koi_prad_err2',\n",
    "       'koi_teq', 'koi_insol', 'koi_insol_err1', 'koi_insol_err2',\n",
    "       'koi_model_snr', 'koi_tce_plnt_num', 'koi_steff', 'koi_steff_err1',\n",
    "       'koi_steff_err2', 'koi_slogg', 'koi_slogg_err1', 'koi_slogg_err2',\n",
    "       'koi_srad', 'koi_srad_err1', 'koi_srad_err2', 'ra', 'dec',\n",
    "       'koi_kepmag']]\n",
    "\n",
    "# However, we need to one hot encode the y\n",
    "y = df[\"koi_disposition\"]\n",
    "print(X.shape, y.shape)"
   ]
  },
  {
   "cell_type": "code",
   "execution_count": 8,
   "metadata": {},
   "outputs": [],
   "source": [
    "\n",
    "from sklearn.model_selection import train_test_split\n",
    "from sklearn.preprocessing import LabelEncoder, MinMaxScaler\n",
    "from tensorflow.keras.utils import to_categorical\n",
    "\n",
    "# I tried this but, it gives a shape that's not usable in SVG\n",
    "# # Step 1: Label-encode data set\n",
    "# label_encoder = LabelEncoder()\n",
    "# label_encoder.fit(y)\n",
    "# encoded_y = label_encoder.transform(y)\n",
    "\n",
    "# # Step 2: One-hot encoding\n",
    "# one_hot_y = to_categorical(encoded_y)\n",
    "# one_hot_y"
   ]
  },
  {
   "cell_type": "code",
   "execution_count": 9,
   "metadata": {},
   "outputs": [],
   "source": [
    "# We're just going to encode using replace.\n",
    "# False positive will be 0\n",
    "label_names=[\"False Positive\", \"Confirmed\"]\n",
    "y=y.replace(to_replace=[\"FALSE POSITIVE\",\"CONFIRMED\"], value=[0,1])"
   ]
  },
  {
   "cell_type": "code",
   "execution_count": 10,
   "metadata": {},
   "outputs": [],
   "source": [
    "X_train, X_test, y_train, y_test = train_test_split(\n",
    "    X, y, random_state=1, stratify=y)"
   ]
  },
  {
   "cell_type": "markdown",
   "metadata": {},
   "source": [
    "# Pre-processing\n",
    "\n",
    "Scale the data using the MinMaxScaler"
   ]
  },
  {
   "cell_type": "code",
   "execution_count": 11,
   "metadata": {},
   "outputs": [],
   "source": [
    "X_scaler = MinMaxScaler().fit(X_train)\n",
    "X_train_scaled = X_scaler.transform(X_train)\n",
    "X_test_scaled = X_scaler.transform(X_test)"
   ]
  },
  {
   "cell_type": "markdown",
   "metadata": {},
   "source": [
    "# Train the Support Vector Machine"
   ]
  },
  {
   "cell_type": "code",
   "execution_count": 13,
   "metadata": {},
   "outputs": [
    {
     "data": {
      "text/plain": [
       "SVC(C=1.0, cache_size=200, class_weight=None, coef0=0.0,\n",
       "  decision_function_shape='ovr', degree=3, gamma='auto', kernel='linear',\n",
       "  max_iter=-1, probability=False, random_state=None, shrinking=True,\n",
       "  tol=0.001, verbose=False)"
      ]
     },
     "execution_count": 13,
     "metadata": {},
     "output_type": "execute_result"
    }
   ],
   "source": [
    "from sklearn.svm import SVC \n",
    "model = SVC(kernel='linear')\n",
    "model.fit(X_train_scaled, y_train)"
   ]
  },
  {
   "cell_type": "code",
   "execution_count": 15,
   "metadata": {},
   "outputs": [
    {
     "name": "stdout",
     "output_type": "stream",
     "text": [
      "Training Data Score: 0.9897425583266292\n",
      "Testing Data Score: 0.9933655006031363\n"
     ]
    }
   ],
   "source": [
    "print(f\"Training Data Score: {model.score(X_train_scaled, y_train)}\")\n",
    "print(f\"Testing Data Score: {model.score(X_test_scaled, y_test)}\")"
   ]
  },
  {
   "cell_type": "markdown",
   "metadata": {},
   "source": [
    "# Hyperparameter Tuning\n",
    "\n",
    "Use `GridSearchCV` to tune the `C` and `gamma` parameters"
   ]
  },
  {
   "cell_type": "code",
   "execution_count": 16,
   "metadata": {},
   "outputs": [],
   "source": [
    "# Create the GridSearchCV model\n",
    "from sklearn.model_selection import GridSearchCV\n",
    "param_grid = {'C': [1, 5, 10, 50],\n",
    "              'gamma': [0.0001, 0.0005, 0.001, 0.005]}\n",
    "grid = GridSearchCV(model, param_grid, verbose=3)"
   ]
  },
  {
   "cell_type": "code",
   "execution_count": 17,
   "metadata": {},
   "outputs": [
    {
     "name": "stdout",
     "output_type": "stream",
     "text": [
      "Fitting 3 folds for each of 16 candidates, totalling 48 fits\n",
      "[CV] C=1, gamma=0.0001 ...............................................\n",
      "[CV] ...... C=1, gamma=0.0001, score=0.9897466827503015, total=   0.1s\n",
      "[CV] C=1, gamma=0.0001 ...............................................\n",
      "[CV] ...... C=1, gamma=0.0001, score=0.9897404948702474, total=   0.0s\n",
      "[CV] C=1, gamma=0.0001 ...............................................\n"
     ]
    },
    {
     "name": "stderr",
     "output_type": "stream",
     "text": [
      "[Parallel(n_jobs=1)]: Done   1 out of   1 | elapsed:    0.1s remaining:    0.0s\n",
      "[Parallel(n_jobs=1)]: Done   2 out of   2 | elapsed:    0.1s remaining:    0.0s\n"
     ]
    },
    {
     "name": "stdout",
     "output_type": "stream",
     "text": [
      "[CV] ...... C=1, gamma=0.0001, score=0.9897404948702474, total=   0.1s\n",
      "[CV] C=1, gamma=0.0005 ...............................................\n",
      "[CV] ...... C=1, gamma=0.0005, score=0.9897466827503015, total=   0.1s\n",
      "[CV] C=1, gamma=0.0005 ...............................................\n",
      "[CV] ...... C=1, gamma=0.0005, score=0.9897404948702474, total=   0.0s\n",
      "[CV] C=1, gamma=0.0005 ...............................................\n",
      "[CV] ...... C=1, gamma=0.0005, score=0.9897404948702474, total=   0.1s\n",
      "[CV] C=1, gamma=0.001 ................................................\n",
      "[CV] ....... C=1, gamma=0.001, score=0.9897466827503015, total=   0.0s\n",
      "[CV] C=1, gamma=0.001 ................................................\n",
      "[CV] ....... C=1, gamma=0.001, score=0.9897404948702474, total=   0.0s\n",
      "[CV] C=1, gamma=0.001 ................................................\n",
      "[CV] ....... C=1, gamma=0.001, score=0.9897404948702474, total=   0.1s\n",
      "[CV] C=1, gamma=0.005 ................................................\n",
      "[CV] ....... C=1, gamma=0.005, score=0.9897466827503015, total=   0.0s\n",
      "[CV] C=1, gamma=0.005 ................................................\n",
      "[CV] ....... C=1, gamma=0.005, score=0.9897404948702474, total=   0.0s\n",
      "[CV] C=1, gamma=0.005 ................................................\n",
      "[CV] ....... C=1, gamma=0.005, score=0.9897404948702474, total=   0.1s\n",
      "[CV] C=5, gamma=0.0001 ...............................................\n",
      "[CV] ...... C=5, gamma=0.0001, score=0.9897466827503015, total=   0.0s\n",
      "[CV] C=5, gamma=0.0001 ...............................................\n",
      "[CV] ...... C=5, gamma=0.0001, score=0.9897404948702474, total=   0.0s\n",
      "[CV] C=5, gamma=0.0001 ...............................................\n",
      "[CV] ...... C=5, gamma=0.0001, score=0.9897404948702474, total=   0.0s\n",
      "[CV] C=5, gamma=0.0005 ...............................................\n",
      "[CV] ...... C=5, gamma=0.0005, score=0.9897466827503015, total=   0.0s\n",
      "[CV] C=5, gamma=0.0005 ...............................................\n",
      "[CV] ...... C=5, gamma=0.0005, score=0.9897404948702474, total=   0.0s\n",
      "[CV] C=5, gamma=0.0005 ...............................................\n",
      "[CV] ...... C=5, gamma=0.0005, score=0.9897404948702474, total=   0.0s\n",
      "[CV] C=5, gamma=0.001 ................................................\n",
      "[CV] ....... C=5, gamma=0.001, score=0.9897466827503015, total=   0.0s\n",
      "[CV] C=5, gamma=0.001 ................................................\n",
      "[CV] ....... C=5, gamma=0.001, score=0.9897404948702474, total=   0.0s\n",
      "[CV] C=5, gamma=0.001 ................................................\n",
      "[CV] ....... C=5, gamma=0.001, score=0.9897404948702474, total=   0.1s\n",
      "[CV] C=5, gamma=0.005 ................................................\n",
      "[CV] ....... C=5, gamma=0.005, score=0.9897466827503015, total=   0.0s\n",
      "[CV] C=5, gamma=0.005 ................................................\n",
      "[CV] ....... C=5, gamma=0.005, score=0.9897404948702474, total=   0.0s\n",
      "[CV] C=5, gamma=0.005 ................................................\n",
      "[CV] ....... C=5, gamma=0.005, score=0.9897404948702474, total=   0.1s\n",
      "[CV] C=10, gamma=0.0001 ..............................................\n",
      "[CV] ..... C=10, gamma=0.0001, score=0.9897466827503015, total=   0.0s\n",
      "[CV] C=10, gamma=0.0001 ..............................................\n",
      "[CV] ..... C=10, gamma=0.0001, score=0.9897404948702474, total=   0.0s\n",
      "[CV] C=10, gamma=0.0001 ..............................................\n",
      "[CV] ..... C=10, gamma=0.0001, score=0.9897404948702474, total=   0.0s\n",
      "[CV] C=10, gamma=0.0005 ..............................................\n",
      "[CV] ..... C=10, gamma=0.0005, score=0.9897466827503015, total=   0.0s\n",
      "[CV] C=10, gamma=0.0005 ..............................................\n",
      "[CV] ..... C=10, gamma=0.0005, score=0.9897404948702474, total=   0.0s\n",
      "[CV] C=10, gamma=0.0005 ..............................................\n",
      "[CV] ..... C=10, gamma=0.0005, score=0.9897404948702474, total=   0.0s\n",
      "[CV] C=10, gamma=0.001 ...............................................\n",
      "[CV] ...... C=10, gamma=0.001, score=0.9897466827503015, total=   0.0s\n",
      "[CV] C=10, gamma=0.001 ...............................................\n",
      "[CV] ...... C=10, gamma=0.001, score=0.9897404948702474, total=   0.0s\n",
      "[CV] C=10, gamma=0.001 ...............................................\n",
      "[CV] ...... C=10, gamma=0.001, score=0.9897404948702474, total=   0.0s\n",
      "[CV] C=10, gamma=0.005 ...............................................\n",
      "[CV] ...... C=10, gamma=0.005, score=0.9897466827503015, total=   0.0s\n",
      "[CV] C=10, gamma=0.005 ...............................................\n",
      "[CV] ...... C=10, gamma=0.005, score=0.9897404948702474, total=   0.0s\n",
      "[CV] C=10, gamma=0.005 ...............................................\n",
      "[CV] ...... C=10, gamma=0.005, score=0.9897404948702474, total=   0.0s\n",
      "[CV] C=50, gamma=0.0001 ..............................................\n",
      "[CV] ..... C=50, gamma=0.0001, score=0.9897466827503015, total=   0.1s\n",
      "[CV] C=50, gamma=0.0001 ..............................................\n",
      "[CV] ..... C=50, gamma=0.0001, score=0.9897404948702474, total=   0.0s\n",
      "[CV] C=50, gamma=0.0001 ..............................................\n",
      "[CV] ..... C=50, gamma=0.0001, score=0.9897404948702474, total=   0.0s\n",
      "[CV] C=50, gamma=0.0005 ..............................................\n",
      "[CV] ..... C=50, gamma=0.0005, score=0.9897466827503015, total=   0.0s\n",
      "[CV] C=50, gamma=0.0005 ..............................................\n",
      "[CV] ..... C=50, gamma=0.0005, score=0.9897404948702474, total=   0.0s\n",
      "[CV] C=50, gamma=0.0005 ..............................................\n",
      "[CV] ..... C=50, gamma=0.0005, score=0.9897404948702474, total=   0.0s\n",
      "[CV] C=50, gamma=0.001 ...............................................\n",
      "[CV] ...... C=50, gamma=0.001, score=0.9897466827503015, total=   0.0s\n",
      "[CV] C=50, gamma=0.001 ...............................................\n",
      "[CV] ...... C=50, gamma=0.001, score=0.9897404948702474, total=   0.0s\n",
      "[CV] C=50, gamma=0.001 ...............................................\n",
      "[CV] ...... C=50, gamma=0.001, score=0.9897404948702474, total=   0.0s\n",
      "[CV] C=50, gamma=0.005 ...............................................\n",
      "[CV] ...... C=50, gamma=0.005, score=0.9897466827503015, total=   0.0s\n",
      "[CV] C=50, gamma=0.005 ...............................................\n",
      "[CV] ...... C=50, gamma=0.005, score=0.9897404948702474, total=   0.0s\n",
      "[CV] C=50, gamma=0.005 ...............................................\n",
      "[CV] ...... C=50, gamma=0.005, score=0.9897404948702474, total=   0.0s\n"
     ]
    },
    {
     "name": "stderr",
     "output_type": "stream",
     "text": [
      "[Parallel(n_jobs=1)]: Done  48 out of  48 | elapsed:    2.7s finished\n"
     ]
    },
    {
     "data": {
      "text/plain": [
       "GridSearchCV(cv=None, error_score='raise',\n",
       "       estimator=SVC(C=1.0, cache_size=200, class_weight=None, coef0=0.0,\n",
       "  decision_function_shape='ovr', degree=3, gamma='auto', kernel='linear',\n",
       "  max_iter=-1, probability=False, random_state=None, shrinking=True,\n",
       "  tol=0.001, verbose=False),\n",
       "       fit_params=None, iid=True, n_jobs=1,\n",
       "       param_grid={'C': [1, 5, 10, 50], 'gamma': [0.0001, 0.0005, 0.001, 0.005]},\n",
       "       pre_dispatch='2*n_jobs', refit=True, return_train_score='warn',\n",
       "       scoring=None, verbose=3)"
      ]
     },
     "execution_count": 17,
     "metadata": {},
     "output_type": "execute_result"
    }
   ],
   "source": [
    "# Train the model with GridSearch\n",
    "grid.fit(X_train_scaled, y_train)"
   ]
  },
  {
   "cell_type": "code",
   "execution_count": 18,
   "metadata": {},
   "outputs": [
    {
     "name": "stdout",
     "output_type": "stream",
     "text": [
      "{'C': 1, 'gamma': 0.0001}\n",
      "0.9897425583266292\n"
     ]
    }
   ],
   "source": [
    "print(grid.best_params_)\n",
    "print(grid.best_score_)"
   ]
  },
  {
   "cell_type": "code",
   "execution_count": 19,
   "metadata": {},
   "outputs": [],
   "source": [
    "predictions = grid.predict(X_test)"
   ]
  },
  {
   "cell_type": "code",
   "execution_count": 20,
   "metadata": {},
   "outputs": [
    {
     "name": "stdout",
     "output_type": "stream",
     "text": [
      "                precision    recall  f1-score   support\n",
      "\n",
      "False Positive       0.66      0.97      0.78      1090\n",
      "     Confirmed       0.27      0.02      0.04       568\n",
      "\n",
      "   avg / total       0.52      0.65      0.53      1658\n",
      "\n"
     ]
    }
   ],
   "source": [
    "# Calculate classification report\n",
    "from sklearn.metrics import classification_report\n",
    "print(classification_report(y_test, predictions,\n",
    "                            target_names=label_names))"
   ]
  },
  {
   "cell_type": "code",
   "execution_count": null,
   "metadata": {},
   "outputs": [],
   "source": []
  }
 ],
 "metadata": {
  "kernel_info": {
   "name": "dev"
  },
  "kernelspec": {
   "display_name": "Python 3",
   "language": "python",
   "name": "python3"
  },
  "language_info": {
   "codemirror_mode": {
    "name": "ipython",
    "version": 3
   },
   "file_extension": ".py",
   "mimetype": "text/x-python",
   "name": "python",
   "nbconvert_exporter": "python",
   "pygments_lexer": "ipython3",
   "version": "3.7.3"
  },
  "nteract": {
   "version": "0.12.3"
  }
 },
 "nbformat": 4,
 "nbformat_minor": 2
}
