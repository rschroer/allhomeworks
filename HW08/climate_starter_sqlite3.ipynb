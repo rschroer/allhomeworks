{
 "cells": [
  {
   "cell_type": "code",
   "execution_count": 54,
   "metadata": {
    "collapsed": true
   },
   "outputs": [],
   "source": [
    "%matplotlib inline\n",
    "from matplotlib import style\n",
    "style.use('fivethirtyeight')\n",
    "import matplotlib.pyplot as plt\n",
    "import numpy as np\n",
    "import pandas as pd\n",
    "from datetime import datetime as dt\n",
    "from flask import jsonify"
   ]
  },
  {
   "cell_type": "markdown",
   "metadata": {},
   "source": [
    "# Import Tables with sqlite3 as Alchemy is not a requirement"
   ]
  },
  {
   "cell_type": "code",
   "execution_count": 55,
   "metadata": {
    "collapsed": true
   },
   "outputs": [],
   "source": [
    "# Python SQL toolkit and Object Relational Mapper\n",
    "import sqlite3\n"
   ]
  },
  {
   "cell_type": "code",
   "execution_count": 56,
   "metadata": {
    "collapsed": true
   },
   "outputs": [],
   "source": [
    " #connect\n",
    "conn = sqlite3.connect(\"./Resources/hawaii.sqlite\")\n",
    "cur = conn.cursor()"
   ]
  },
  {
   "cell_type": "markdown",
   "metadata": {},
   "source": [
    "# Exploratory Climate Analysis"
   ]
  },
  {
   "cell_type": "code",
   "execution_count": 57,
   "metadata": {},
   "outputs": [
    {
     "data": {
      "text/html": [
       "<div>\n",
       "<style scoped>\n",
       "    .dataframe tbody tr th:only-of-type {\n",
       "        vertical-align: middle;\n",
       "    }\n",
       "\n",
       "    .dataframe tbody tr th {\n",
       "        vertical-align: top;\n",
       "    }\n",
       "\n",
       "    .dataframe thead th {\n",
       "        text-align: right;\n",
       "    }\n",
       "</style>\n",
       "<table border=\"1\" class=\"dataframe\">\n",
       "  <thead>\n",
       "    <tr style=\"text-align: right;\">\n",
       "      <th></th>\n",
       "      <th>Precipitation</th>\n",
       "    </tr>\n",
       "    <tr>\n",
       "      <th>Date</th>\n",
       "      <th></th>\n",
       "    </tr>\n",
       "  </thead>\n",
       "  <tbody>\n",
       "    <tr>\n",
       "      <th>2016-08-24</th>\n",
       "      <td>2.28</td>\n",
       "    </tr>\n",
       "    <tr>\n",
       "      <th>2016-08-25</th>\n",
       "      <td>0.21</td>\n",
       "    </tr>\n",
       "    <tr>\n",
       "      <th>2016-08-26</th>\n",
       "      <td>0.04</td>\n",
       "    </tr>\n",
       "    <tr>\n",
       "      <th>2016-08-27</th>\n",
       "      <td>0.18</td>\n",
       "    </tr>\n",
       "    <tr>\n",
       "      <th>2016-08-28</th>\n",
       "      <td>2.07</td>\n",
       "    </tr>\n",
       "  </tbody>\n",
       "</table>\n",
       "</div>"
      ],
      "text/plain": [
       "            Precipitation\n",
       "Date                     \n",
       "2016-08-24           2.28\n",
       "2016-08-25           0.21\n",
       "2016-08-26           0.04\n",
       "2016-08-27           0.18\n",
       "2016-08-28           2.07"
      ]
     },
     "execution_count": 57,
     "metadata": {},
     "output_type": "execute_result"
    }
   ],
   "source": [
    "# Design a query to retrieve the last 12 months of precipitation data and plot the results\n",
    "\n",
    "#Find the highest date in the DB\n",
    "cur.execute(\"SELECT MAX(date) FROM measurement\")\n",
    "max_date=cur.fetchall()\n",
    "#Convert to a string\n",
    "date_str=max_date[0][0]\n",
    "#Convert to a date format\n",
    "date_dt=dt.strptime(date_str,'%Y-%m-%d')\n",
    "#Subtract a year to find the date for the query\n",
    "new_date=date_dt.replace(date_dt.year-1)\n",
    "#convert back to string\n",
    "new_str=new_date.strftime('%Y-%m-%d')\n",
    "\n",
    "# Select the date and precipitaiton level from the db\n",
    "cur.execute(f\"SELECT date, prcp FROM measurement WHERE date > '{new_str}'\")\n",
    "rows=cur.fetchall()\n",
    "\n",
    "#Make a dataframe\n",
    "climate_df=pd.DataFrame(data=rows, columns=[\"Date\",\"Precipitation\"])\n",
    "climate_df.set_index(\"Date\",inplace=True)\n",
    "climate_df.sort_index(ascending=True,inplace=True)\n",
    "#I've made the decision to intrepet nulls as 0s\n",
    "climate_df.fillna(value=0, inplace=True)\n",
    "\n",
    "# Make a group by dataframe for use in a graph\n",
    "climate_group=climate_df.groupby(\"Date\").max()\n",
    "\n",
    "#Show the grouped data\n",
    "climate_group.head()"
   ]
  },
  {
   "cell_type": "code",
   "execution_count": 58,
   "metadata": {
    "collapsed": true
   },
   "outputs": [
    {
     "data": {
      "text/plain": [
       "<Figure size 432x288 with 0 Axes>"
      ]
     },
     "metadata": {},
     "output_type": "display_data"
    },
    {
     "data": {
      "image/png": "[encoded data removed]",
      "text/plain": [
       "<Figure size 792x792 with 1 Axes>"
      ]
     },
     "metadata": {},
     "output_type": "display_data"
    }
   ],
   "source": [
    "#Make a bar graph\n",
    "plt.figure(1)\n",
    "plt.figure(figsize=(11,11))\n",
    "plt.bar(climate_group.index,climate_group[\"Precipitation\"], width=4)\n",
    "\n",
    "# Add title and labels\n",
    "plt.ylabel('Percipiation in Inches')\n",
    "plt.xlabel('Date')\n",
    "plt.title(\"Rain vs Date\")\n",
    "\n",
    "#Remove the xticks on the bottom\n",
    "plt.xticks('')\n",
    "\n",
    "plt.legend([\"Precipitation\"],loc=9)\n",
    "\n",
    "plt.show()"
   ]
  },
  {
   "cell_type": "code",
   "execution_count": 59,
   "metadata": {
    "collapsed": true
   },
   "outputs": [
    {
     "data": {
      "text/html": [
       "<div>\n",
       "<style scoped>\n",
       "    .dataframe tbody tr th:only-of-type {\n",
       "        vertical-align: middle;\n",
       "    }\n",
       "\n",
       "    .dataframe tbody tr th {\n",
       "        vertical-align: top;\n",
       "    }\n",
       "\n",
       "    .dataframe thead th {\n",
       "        text-align: right;\n",
       "    }\n",
       "</style>\n",
       "<table border=\"1\" class=\"dataframe\">\n",
       "  <thead>\n",
       "    <tr style=\"text-align: right;\">\n",
       "      <th></th>\n",
       "      <th>Precipitation</th>\n",
       "    </tr>\n",
       "  </thead>\n",
       "  <tbody>\n",
       "    <tr>\n",
       "      <th>count</th>\n",
       "      <td>2223.000000</td>\n",
       "    </tr>\n",
       "    <tr>\n",
       "      <th>mean</th>\n",
       "      <td>0.159951</td>\n",
       "    </tr>\n",
       "    <tr>\n",
       "      <th>std</th>\n",
       "      <td>0.441220</td>\n",
       "    </tr>\n",
       "    <tr>\n",
       "      <th>min</th>\n",
       "      <td>0.000000</td>\n",
       "    </tr>\n",
       "    <tr>\n",
       "      <th>25%</th>\n",
       "      <td>0.000000</td>\n",
       "    </tr>\n",
       "    <tr>\n",
       "      <th>50%</th>\n",
       "      <td>0.010000</td>\n",
       "    </tr>\n",
       "    <tr>\n",
       "      <th>75%</th>\n",
       "      <td>0.110000</td>\n",
       "    </tr>\n",
       "    <tr>\n",
       "      <th>max</th>\n",
       "      <td>6.700000</td>\n",
       "    </tr>\n",
       "  </tbody>\n",
       "</table>\n",
       "</div>"
      ],
      "text/plain": [
       "       Precipitation\n",
       "count    2223.000000\n",
       "mean        0.159951\n",
       "std         0.441220\n",
       "min         0.000000\n",
       "25%         0.000000\n",
       "50%         0.010000\n",
       "75%         0.110000\n",
       "max         6.700000"
      ]
     },
     "execution_count": 59,
     "metadata": {},
     "output_type": "execute_result"
    }
   ],
   "source": [
    "# Use Pandas to calcualte the summary statistics for the precipitation data\n",
    "climate_df.describe()"
   ]
  },
  {
   "cell_type": "code",
   "execution_count": 60,
   "metadata": {},
   "outputs": [
    {
     "data": {
      "text/plain": [
       "[(9,)]"
      ]
     },
     "execution_count": 60,
     "metadata": {},
     "output_type": "execute_result"
    }
   ],
   "source": [
    "# Design a query to show how many stations are available in this dataset?\n",
    "cur.execute(f\"SELECT COUNT(DISTINCT station) FROM measurement\")\n",
    "cur.fetchall()"
   ]
  },
  {
   "cell_type": "code",
   "execution_count": 61,
   "metadata": {},
   "outputs": [
    {
     "data": {
      "text/plain": [
       "[('USC00519281', 2772),\n",
       " ('USC00519397', 2724),\n",
       " ('USC00513117', 2709),\n",
       " ('USC00519523', 2669),\n",
       " ('USC00516128', 2612),\n",
       " ('USC00514830', 2202),\n",
       " ('USC00511918', 1979),\n",
       " ('USC00517948', 1372),\n",
       " ('USC00518838', 511)]"
      ]
     },
     "execution_count": 61,
     "metadata": {},
     "output_type": "execute_result"
    }
   ],
   "source": [
    "# What are the most active stations? (i.e. what stations have the most rows)?\n",
    "# List the stations and the counts in descending order.\n",
    "cur.execute(f\"SELECT station, COUNT(*) FROM measurement GROUP BY station ORDER BY COUNT(*) DESC\")\n",
    "cur.fetchall()"
   ]
  },
  {
   "cell_type": "code",
   "execution_count": 62,
   "metadata": {},
   "outputs": [
    {
     "data": {
      "text/plain": [
       "[(54.0, 85.0, 71.66378066378067)]"
      ]
     },
     "execution_count": 62,
     "metadata": {},
     "output_type": "execute_result"
    }
   ],
   "source": [
    "# Using the station id from the previous query, calculate the lowest temperature recorded, \n",
    "# highest temperature recorded, and average temperature most active station?\n",
    "\n",
    "active_station=\"USC00519281\"\n",
    "cur.execute(f\"SELECT MIN(tobs), MAX(tobs), AVG(tobs) FROM measurement WHERE station='{active_station}'\")\n",
    "cur.fetchall()"
   ]
  },
  {
   "cell_type": "code",
   "execution_count": 63,
   "metadata": {},
   "outputs": [
    {
     "data": {
      "image/png": "[encoded data removed]",
      "text/plain": [
       "<Figure size 432x288 with 1 Axes>"
      ]
     },
     "metadata": {},
     "output_type": "display_data"
    }
   ],
   "source": [
    "# Choose the station with the highest number of temperature observations.\n",
    "# Query the last 12 months of temperature observation data for this station and plot the results as a histogram\n",
    "cur.execute(f\"SELECT date, tobs FROM measurement WHERE date > '{new_str}' AND station='{active_station}'\")\n",
    "rows=cur.fetchall()\n",
    "\n",
    "temp_hist_df=pd.DataFrame(rows, columns=[\"date\",\"tobs\"])\n",
    "\n",
    "plt.hist(temp_hist_df[\"tobs\"],bins=12)\n",
    "plt.legend([\"tobs\"])\n",
    "\n",
    "# Add title and labels\n",
    "plt.ylabel('Frequency')\n",
    "plt.xlabel('Temp (F)')\n",
    "plt.title(f\"Temperature Histogram of {active_station}\")\n",
    "\n",
    "plt.show()\n"
   ]
  },
  {
   "cell_type": "markdown",
   "metadata": {},
   "source": [
    "# Choosing the Dates\n",
    "\n",
    "## Precipitation \n",
    "\n",
    "### From veiwing the precipitation graph previously, it appears at the best time to go is late April or early May\n",
    "\n",
    "### I will choose05-01 to 05-15\n",
    "\n",
    "## Temperature\n",
    "\n",
    "### I have decided that when to go doesn't truly affect the temperature by viewing the histogram.\n",
    "\n",
    "### It all looks pretty pleasant in that range"
   ]
  },
  {
   "cell_type": "markdown",
   "metadata": {},
   "source": [
    "# Flask Functions\n",
    "\n",
    "This next area is a place where I can build and test functinons for the flask app\n",
    "\n",
    "__Flask app is in ./flask_app/app.py__"
   ]
  },
  {
   "cell_type": "markdown",
   "metadata": {},
   "source": [
    "# Testing code for /api/v1.0/precipitation/"
   ]
  },
  {
   "cell_type": "code",
   "execution_count": 78,
   "metadata": {},
   "outputs": [
    {
     "data": {
      "text/plain": [
       "{None}"
      ]
     },
     "execution_count": 78,
     "metadata": {},
     "output_type": "execute_result"
    }
   ],
   "source": [
    "# Function precipitaion for the following path:\n",
    "# /api/v1.0/precipitation\n",
    "\n",
    "#@app.route(\"/api/v1.0/precipitation/\")\n",
    "#def precipitation():\n",
    "# connect to the db\n",
    "conn = sqlite3.connect(\"./Resources/hawaii.sqlite\")\n",
    "cur = conn.cursor()\n",
    "# select date and precipitation from the db\n",
    "cur.execute(\"SELECT date, prcp FROM measurement\")\n",
    "result= cur.fetchall()\n",
    "# create and add results into the dictionary\n",
    "precip_dict= {}\n",
    "{precip_dict.setdefault(key, []).append(precip) for key, precip in result}\n",
    "#return(jsonify(precip_dict))\n",
    "\n"
   ]
  },
  {
   "cell_type": "markdown",
   "metadata": {},
   "source": [
    "# Testing code for /api/v1.0/stations/"
   ]
  },
  {
   "cell_type": "code",
   "execution_count": 93,
   "metadata": {},
   "outputs": [],
   "source": [
    "#@app.route(\"/api/v1.0/stations\")\n",
    "#def stations():\n",
    "# connect to the db\n",
    "conn = sqlite3.connect(\"./Resources/hawaii.sqlite\")\n",
    "cur = conn.cursor()\n",
    "#select the station data\n",
    "cur.execute(\"SELECT station, name, latitude, longitude, elevation FROM station\")\n",
    "results=cur.fetchall()\n",
    "stations_list=[]\n",
    "# add the results to a list of dictionaries\n",
    "for result in results:\n",
    "    stations_list.append(dict(station=result[0],name=result[1],lattitude=result[2],longitude=result[3],elevation=result[4]))\n",
    "#    return jsonify(stations_list)\n",
    "\n",
    "\n"
   ]
  },
  {
   "cell_type": "markdown",
   "metadata": {},
   "source": [
    "# Testing code for /api/v1.0/tob/"
   ]
  },
  {
   "cell_type": "code",
   "execution_count": 91,
   "metadata": {},
   "outputs": [
    {
     "data": {
      "text/plain": [
       "{None}"
      ]
     },
     "execution_count": 91,
     "metadata": {},
     "output_type": "execute_result"
    }
   ],
   "source": [
    "# Function precipitaion for the following path:\n",
    "# /api/v1.0/tob\n",
    "\n",
    "#@app.route(\"/api/v1.0/tob/\")\n",
    "#def tob():\n",
    "conn = sqlite3.connect(\"./Resources/hawaii.sqlite\")\n",
    "cur = conn.cursor()\n",
    "\n",
    "#Find the highest date in the DB\n",
    "cur.execute(\"SELECT MAX(date) FROM measurement\")\n",
    "max_date=cur.fetchall()\n",
    "#Convert to a string\n",
    "date_str=max_date[0][0]\n",
    "#Convert to a date format\n",
    "date_dt=dt.strptime(date_str,'%Y-%m-%d')\n",
    "#Subtract a year to find the date for the query\n",
    "new_date=date_dt.replace(date_dt.year-1)\n",
    "#convert back to string\n",
    "new_str=new_date.strftime('%Y-%m-%d')\n",
    "\n",
    "cur.execute(f\"SELECT date, tobs FROM measurement WHERE date > '{new_str}'\")\n",
    "result= cur.fetchall()\n",
    "tobs_dict= {}\n",
    "{tobs_dict.setdefault(key, []).append(tobs) for key, tobs in result}\n",
    "#return(jsonify(tobs_dict)\n",
    "\n",
    "   \n"
   ]
  },
  {
   "cell_type": "markdown",
   "metadata": {},
   "source": [
    "# Testing code for flask app /api/v1.0/&#x3C;start&#x3E;\n",
    "    \n",
    "    "
   ]
  },
  {
   "cell_type": "code",
   "execution_count": 82,
   "metadata": {},
   "outputs": [
    {
     "name": "stdin",
     "output_type": "stream",
     "text": [
      " 2018-01-01\n"
     ]
    },
    {
     "name": "stdout",
     "output_type": "stream",
     "text": [
      "{'error': '2018-01-01 is greater than the latest database date of 2017-08-23'}\n"
     ]
    }
   ],
   "source": [
    "# flask app for finding the temp statistics for several dates\n",
    "#@app.route(\"/api/v1.0/<start>\")\n",
    "#Input for QA:\n",
    "start=input()\n",
    "#def temp_past(start):\n",
    "try:\n",
    "    ##This date conversion verifies that the url is properly formatted\n",
    "    min_date=dt.strptime(start,'%Y-%m-%d')\n",
    "    ## Connect to db\n",
    "    conn = sqlite3.connect(\"./Resources/hawaii.sqlite\")\n",
    "    cur = conn.cursor()\n",
    "\n",
    "    ## find min and max date on db\n",
    "    cur.execute(\"SELECT MIN(date),MAX(date) FROM measurement\")\n",
    "    db_result=cur.fetchall()\n",
    "    #Convert to a string\n",
    "    min_str=db_result[0][0]\n",
    "    max_str=db_result[0][1]\n",
    "\n",
    "    # Check to see if the date ranges are out of bounds\n",
    "    if start < min_str:\n",
    "            results={\"error\": f\"{start} is less than the earliest database date of {min_str}\"}\n",
    "    elif start > max_str:\n",
    "            results={\"error\": f\"{start} is greater than the latest database date of {max_str}\"}\n",
    "    else:\n",
    "        #select the aggretate temperatures of the dates greater than start date\n",
    "        cur.execute(f\"SELECT MIN(tobs),MAX(tobs),AVG(tobs) FROM measurement WHERE date >= {start}\")\n",
    "        temp_results=cur.fetchall()\n",
    "        #format the results for the average of those dates\n",
    "        results={\"start\":start,\n",
    "                 \"end\":max_str,\n",
    "                 \"TMIN\":temp_results[0][0],\n",
    "                  \"TMAX\":temp_results[0][1],\n",
    "                  \"TAVG\":\"{0:.1f}\".format(temp_results[0][2])}\n",
    "#        return jsonify(results),200\n",
    "except: \n",
    "        #return an error if there's a date typo\n",
    "    results={\"error\": f\"{start} is not date format of YYYY-MM-DD or an API path\"}\n",
    "#        return jsonify(results),404\n",
    "\n",
    "# This line should be removed in flask file. it's to verify output\n",
    "print(results)"
   ]
  },
  {
   "cell_type": "markdown",
   "metadata": {},
   "source": [
    "# Testing code for flask app /api/v1.0/&#x3C;start&#x3E;/&#x3C;end&#x3E;\n",
    "    \n",
    "    "
   ]
  },
  {
   "cell_type": "code",
   "execution_count": 95,
   "metadata": {},
   "outputs": [
    {
     "name": "stdin",
     "output_type": "stream",
     "text": [
      " 2017-05-01\n",
      " 2017-05-15\n"
     ]
    },
    {
     "data": {
      "text/plain": [
       "{'start': '2017-05-01',\n",
       " 'end': '2017-05-15',\n",
       " 'TMIN': 65.0,\n",
       " 'TMAX': 80.0,\n",
       " 'TAVG': '75.2'}"
      ]
     },
     "execution_count": 95,
     "metadata": {},
     "output_type": "execute_result"
    }
   ],
   "source": [
    "#@app.route(\"/api/v1.0/<start>/<end>\")\n",
    "#def temp_range(start,end):\n",
    "\n",
    "#Testing  variables that will be removed from flask app\n",
    "start=input()\n",
    "end=input()\n",
    "\n",
    "\n",
    "try:\n",
    "    min_date=dt.strptime(start,'%Y-%m-%d')\n",
    "    max_date=dt.strptime(end,'%Y-%m-%d')\n",
    "\n",
    "    ## Connect to db\n",
    "    conn = sqlite3.connect(\"./Resources/hawaii.sqlite\")\n",
    "    cur = conn.cursor()\n",
    "\n",
    "    ## find min and max date on db\n",
    "    cur.execute(\"SELECT MIN(date),MAX(date) FROM measurement\")\n",
    "    db_result=cur.fetchall()\n",
    "    #Convert to a string\n",
    "    min_str=db_result[0][0]\n",
    "    max_str=db_result[0][1]\n",
    "\n",
    "    # For date error handling, I have 3 categories, if the start is earlier than the \n",
    "    # first db date, if the end is greater than the last db date, and if the start is \n",
    "    # greater than the end.\n",
    "    if start > end:\n",
    "        results={\"error\":f\"Start date {start} is greater than end date {end}.\"}\n",
    "    elif start < min_str:\n",
    "        results={\"error\": f\"{start} is less than the earliest database date of {min_str}\"}\n",
    "    elif end > max_str:\n",
    "        results={\"error\": f\"{end} is greater than the latest database date of {max_str}\"}\n",
    "                \n",
    "    else:\n",
    "        # find min max and rage of temp for those dates\n",
    "        cur.execute(f\"SELECT MIN(tobs),MAX(tobs),AVG(tobs) FROM measurement WHERE date >= '{start}' AND date <= '{end}' AND tobs IS NOT NULL\")\n",
    "        temp_results=cur.fetchall()\n",
    "        # return the results\n",
    "        results={\"start\":start,\n",
    "                 \"end\":end,\n",
    "                 \"TMIN\":temp_results[0][0],\n",
    "                 \"TMAX\":temp_results[0][1],\n",
    "                 \"TAVG\":\"{0:.1f}\".format(temp_results[0][2])\n",
    "                  }\n",
    "#        return jsonify(results),200\n",
    "except: \n",
    "        #return an error if there's a date typo\n",
    "    results={\"error\": f\"{start} is not date format of YYYY-MM-DD or an API path\"}\n",
    "#        return jsonify(results),404\n",
    "\n",
    "# This line should be removed in flask file. it's to verify output\n",
    "results"
   ]
  },
  {
   "cell_type": "markdown",
   "metadata": {},
   "source": [
    "## Optional Challenge Assignment\n",
    "\n",
    "### I declined to do it. It also appears that the jupyter book doesn't match the instructions.\n",
    "\n",
    "### I deleted the mismathing blocks out of the Notebook\n"
   ]
  }
 ],
 "metadata": {
  "kernel_info": {
   "name": "python3"
  },
  "kernelspec": {
   "display_name": "Python 3",
   "language": "python",
   "name": "python3"
  },
  "language_info": {
   "codemirror_mode": {
    "name": "ipython",
    "version": 3
   },
   "file_extension": ".py",
   "mimetype": "text/x-python",
   "name": "python",
   "nbconvert_exporter": "python",
   "pygments_lexer": "ipython3",
   "version": "3.7.2"
  },
  "nteract": {
   "version": "0.12.3"
  },
  "varInspector": {
   "cols": {
    "lenName": 16,
    "lenType": 16,
    "lenVar": 40
   },
   "kernels_config": {
    "python": {
     "delete_cmd_postfix": "",
     "delete_cmd_prefix": "del ",
     "library": "var_list.py",
     "varRefreshCmd": "print(var_dic_list())"
    },
    "r": {
     "delete_cmd_postfix": ") ",
     "delete_cmd_prefix": "rm(",
     "library": "var_list.r",
     "varRefreshCmd": "cat(var_dic_list()) "
    }
   },
   "types_to_exclude": [
    "module",
    "function",
    "builtin_function_or_method",
    "instance",
    "_Feature"
   ],
   "window_display": false
  }
 },
 "nbformat": 4,
 "nbformat_minor": 2
}
